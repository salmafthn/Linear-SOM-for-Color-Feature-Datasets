{
 "cells": [
  {
   "cell_type": "code",
   "execution_count": null,
   "metadata": {},
   "outputs": [
    {
     "name": "stderr",
     "output_type": "stream",
     "text": [
      "d:\\Kuliah\\JST\\Neural-Network-Final-Project\\.venv\\Lib\\site-packages\\tqdm\\auto.py:21: TqdmWarning: IProgress not found. Please update jupyter and ipywidgets. See https://ipywidgets.readthedocs.io/en/stable/user_install.html\n",
      "  from .autonotebook import tqdm as notebook_tqdm\n"
     ]
    }
   ],
   "source": [
    "import numpy as np\n",
    "import pandas as pd\n",
    "import matplotlib.pyplot as plt\n",
    "import seaborn as sns\n",
    "from sklearn.preprocessing import StandardScaler\n",
    "from sklearn.manifold import TSNE\n",
    "from sklearn.datasets import fetch_openml\n",
    "import plotly.express as px\n",
    "from sklearn.model_selection import train_test_split\n",
    "from sklearn.decomposition import PCA\n",
    "\n",
    "from sklearn.metrics import silhouette_score\n",
    "from somperf.metrics import *\n",
    "from somperf.utils.topology import rectangular_topology_dist\n",
    "\n",
    "import optuna\n",
    "import numpy as np"
   ]
  },
  {
   "cell_type": "markdown",
   "metadata": {},
   "source": [
    "##Data Analysis"
   ]
  },
  {
   "cell_type": "code",
   "execution_count": 2,
   "metadata": {},
   "outputs": [],
   "source": [
    "df = pd.read_excel('dataset.xlsx', sheet_name='Sheet1') \n",
    "data = df.iloc[:,:-1].values"
   ]
  },
  {
   "cell_type": "markdown",
   "metadata": {},
   "source": [
    "###Preprocessing"
   ]
  },
  {
   "cell_type": "code",
   "execution_count": 3,
   "metadata": {},
   "outputs": [
    {
     "data": {
      "text/html": [
       "<div>\n",
       "<style scoped>\n",
       "    .dataframe tbody tr th:only-of-type {\n",
       "        vertical-align: middle;\n",
       "    }\n",
       "\n",
       "    .dataframe tbody tr th {\n",
       "        vertical-align: top;\n",
       "    }\n",
       "\n",
       "    .dataframe thead th {\n",
       "        text-align: right;\n",
       "    }\n",
       "</style>\n",
       "<table border=\"1\" class=\"dataframe\">\n",
       "  <thead>\n",
       "    <tr style=\"text-align: right;\">\n",
       "      <th></th>\n",
       "      <th>meanR</th>\n",
       "      <th>meanG</th>\n",
       "      <th>meanB</th>\n",
       "      <th>stdR</th>\n",
       "      <th>stdG</th>\n",
       "      <th>stdB</th>\n",
       "      <th>skewR</th>\n",
       "      <th>skewG</th>\n",
       "      <th>skewB</th>\n",
       "      <th>kurR</th>\n",
       "      <th>kurG</th>\n",
       "      <th>kurB</th>\n",
       "      <th>entR</th>\n",
       "      <th>entG</th>\n",
       "      <th>entB</th>\n",
       "      <th>Class</th>\n",
       "    </tr>\n",
       "  </thead>\n",
       "  <tbody>\n",
       "    <tr>\n",
       "      <th>0</th>\n",
       "      <td>-0.665102</td>\n",
       "      <td>0.008693</td>\n",
       "      <td>-0.644699</td>\n",
       "      <td>-0.957046</td>\n",
       "      <td>-0.074790</td>\n",
       "      <td>-0.358296</td>\n",
       "      <td>-0.280260</td>\n",
       "      <td>-0.336533</td>\n",
       "      <td>0.694148</td>\n",
       "      <td>-0.275050</td>\n",
       "      <td>-0.357389</td>\n",
       "      <td>0.413462</td>\n",
       "      <td>0.260530</td>\n",
       "      <td>0.270445</td>\n",
       "      <td>-1.030791</td>\n",
       "      <td>-1.344481</td>\n",
       "    </tr>\n",
       "    <tr>\n",
       "      <th>1</th>\n",
       "      <td>-0.731039</td>\n",
       "      <td>-0.226412</td>\n",
       "      <td>-0.811958</td>\n",
       "      <td>-0.894219</td>\n",
       "      <td>-0.183617</td>\n",
       "      <td>-0.720664</td>\n",
       "      <td>0.071609</td>\n",
       "      <td>0.002909</td>\n",
       "      <td>0.695626</td>\n",
       "      <td>0.022708</td>\n",
       "      <td>-0.088418</td>\n",
       "      <td>0.532731</td>\n",
       "      <td>-0.107272</td>\n",
       "      <td>-0.118157</td>\n",
       "      <td>-1.012572</td>\n",
       "      <td>-1.344481</td>\n",
       "    </tr>\n",
       "    <tr>\n",
       "      <th>2</th>\n",
       "      <td>-0.178144</td>\n",
       "      <td>-0.392545</td>\n",
       "      <td>-0.305512</td>\n",
       "      <td>-0.087327</td>\n",
       "      <td>-0.407671</td>\n",
       "      <td>-0.370002</td>\n",
       "      <td>0.016748</td>\n",
       "      <td>0.039301</td>\n",
       "      <td>0.182180</td>\n",
       "      <td>-0.090864</td>\n",
       "      <td>-0.068511</td>\n",
       "      <td>0.161766</td>\n",
       "      <td>-0.205810</td>\n",
       "      <td>-0.210945</td>\n",
       "      <td>0.042868</td>\n",
       "      <td>-1.344481</td>\n",
       "    </tr>\n",
       "  </tbody>\n",
       "</table>\n",
       "</div>"
      ],
      "text/plain": [
       "      meanR     meanG     meanB      stdR      stdG      stdB     skewR  \\\n",
       "0 -0.665102  0.008693 -0.644699 -0.957046 -0.074790 -0.358296 -0.280260   \n",
       "1 -0.731039 -0.226412 -0.811958 -0.894219 -0.183617 -0.720664  0.071609   \n",
       "2 -0.178144 -0.392545 -0.305512 -0.087327 -0.407671 -0.370002  0.016748   \n",
       "\n",
       "      skewG     skewB      kurR      kurG      kurB      entR      entG  \\\n",
       "0 -0.336533  0.694148 -0.275050 -0.357389  0.413462  0.260530  0.270445   \n",
       "1  0.002909  0.695626  0.022708 -0.088418  0.532731 -0.107272 -0.118157   \n",
       "2  0.039301  0.182180 -0.090864 -0.068511  0.161766 -0.205810 -0.210945   \n",
       "\n",
       "       entB     Class  \n",
       "0 -1.030791 -1.344481  \n",
       "1 -1.012572 -1.344481  \n",
       "2  0.042868 -1.344481  "
      ]
     },
     "execution_count": 3,
     "metadata": {},
     "output_type": "execute_result"
    }
   ],
   "source": [
    "#Standarization\n",
    "scaler = StandardScaler()\n",
    "\n",
    "df_scaled = scaler.fit_transform(df.copy())\n",
    "df_scaled = pd.DataFrame(df_scaled, columns=df.columns)\n",
    "\n",
    "df_scaled.head(3)"
   ]
  },
  {
   "cell_type": "code",
   "execution_count": 4,
   "metadata": {},
   "outputs": [],
   "source": [
    "#Split Dataset\n",
    "X = df_scaled.drop(columns=['Class'])\n",
    "y = df_scaled['Class']\n",
    "\n",
    "X_train, X_val, y_train, y_val = train_test_split(X, y, test_size=0.2, random_state=42)"
   ]
  },
  {
   "cell_type": "markdown",
   "metadata": {},
   "source": [
    "###Building Model"
   ]
  },
  {
   "cell_type": "code",
   "execution_count": 5,
   "metadata": {},
   "outputs": [],
   "source": [
    "class SOMlinier:\n",
    "    def __init__(self, m, fitur, R, alpha, tau):\n",
    "        self.m = m \n",
    "        self.fitur = fitur \n",
    "        self.w = np.random.rand(m, fitur) \n",
    "        self.R0 = R \n",
    "        self.alpha0 = alpha\n",
    "        self.tau = tau\n",
    "    \n",
    "    def hitung_bmu(self, x):\n",
    "        # Menghitung jarak antara x dan setiap neuron\n",
    "        D = np.linalg.norm(self.w - x, axis=1)\n",
    "        # Kembalikan indeks dari BMU (neuron dengan jarak terdekat)\n",
    "        return np.argmin(D)\n",
    "    \n",
    "    def hitung_second_bmu(self, x):\n",
    "        # Menghitung jarak antara x dan setiap neuron\n",
    "        D = np.linalg.norm(self.w - x, axis=1)\n",
    "        # Urutkan indeks jarak, ambil indeks kedua terdekat\n",
    "        return np.argsort(D)[1]\n",
    "    \n",
    "    def update_bobot(self, x, j, R, alpha):\n",
    "        for i in range(self.m):\n",
    "            jarak = abs(i - j)\n",
    "            if jarak <= R:\n",
    "                influence = np.exp(-jarak**2 / (2 * (R**2)))\n",
    "                self.w[i] += alpha * influence * (x - self.w[i])\n",
    "    \n",
    "    def kurangi_radius(self, iterasi):\n",
    "        return self.R0 * np.exp(-iterasi / self.tau)\n",
    "\n",
    "    def kurangi_learning_rate(self, iterasi):\n",
    "        return self.alpha0 * np.exp(-iterasi / self.tau)\n",
    "\n",
    "    def train(self, data, n_iterasi):\n",
    "        for t in range(n_iterasi):\n",
    "            x = data[np.random.randint(0, len(data))]\n",
    "            j = self.hitung_bmu(x)\n",
    "            R = self.kurangi_radius(t)\n",
    "            alpha = self.kurangi_learning_rate(t)\n",
    "            self.update_bobot(x, j, R, alpha)\n",
    "\n",
    "    def quantization_error(self, data):\n",
    "        # Menghitung Quantization Error (QE) sebagai rata-rata jarak antara data dan BMU-nya\n",
    "        total_error = np.mean([np.linalg.norm(x - self.w[self.hitung_bmu(x)]) for x in data])\n",
    "        return total_error\n",
    "    \n",
    "    def topographic_error(self, data):\n",
    "        # Menghitung Topographic Error (TE)\n",
    "        errors = 0\n",
    "        for x in data:\n",
    "            bmu = self.hitung_bmu(x)\n",
    "            second_bmu = self.hitung_second_bmu(x)\n",
    "            # Cek jika BMU dan second BMU bertetangga (bedanya hanya 1 di grid linear)\n",
    "            if abs(bmu - second_bmu) > 1:\n",
    "                errors += 1\n",
    "        te = errors / len(data)\n",
    "        return te"
   ]
  },
  {
   "cell_type": "code",
   "execution_count": 6,
   "metadata": {},
   "outputs": [
    {
     "name": "stdout",
     "output_type": "stream",
     "text": [
      "Trained SOM weights: [[ 0.02504595  0.71419404  0.77754771  0.79564797  0.18255689  0.83230459\n",
      "   0.88730021  0.05546058  0.83677598  0.87132344  0.85498082  0.85505634\n",
      "   0.86901416  0.35074911  0.43426447]\n",
      " [-1.24120682 -1.58690112 -0.77059412 -1.04651    -1.61461989 -0.70228196\n",
      "   1.78177092  1.86308761  0.73945208  1.85557527  1.93314785  0.73378613\n",
      "  -1.63899396 -1.68149604 -1.09298556]\n",
      " [ 0.81312198  0.16098081  0.88835544  0.30822114  0.48982448  0.10296177\n",
      "   0.73466814  0.20053874  0.39888647  0.57780246  0.46701136  0.68173711\n",
      "   0.74337929  0.36791828  0.31320595]\n",
      " [ 0.37916565  0.37109255  0.62804972  0.94391822  0.89313435  0.71429159\n",
      "   0.73115842  0.69791036  0.18850533  0.27032008  0.93053451  0.4230166\n",
      "   0.87218931  0.09021422  0.52975253]\n",
      " [ 0.36076909  0.89926856  0.24651433  0.03354023  0.36005193  0.08886801\n",
      "   0.46466296  0.47419092  0.45750369  0.30194527  0.70567742  0.62090827\n",
      "   0.64264628  0.2901956   0.54179993]\n",
      " [ 0.43024891  0.75733405  0.35995747  0.79550897  0.52390875  0.77158554\n",
      "   0.3909625   0.78194756  0.96109533  0.6219501   0.61117174  0.98132058\n",
      "   0.68239106  0.05508143  0.24215655]\n",
      " [ 0.52528563  0.40697434  0.56082612  0.61289796  0.49604875  0.50748042\n",
      "  -0.48619264 -0.45167633 -0.77874739 -0.554665   -0.48647295 -0.74833342\n",
      "   0.29397133  0.30397834  0.71469026]\n",
      " [ 1.73565353  1.59399894  1.8777361   1.5229226   1.43827119  1.70429374\n",
      "  -1.4157886  -1.2677782  -1.4974372  -1.27290012 -1.08025361 -1.31486619\n",
      "   1.37497645  1.36304283  1.7197755 ]\n",
      " [-0.00801252  0.46786805 -0.68278666 -0.30634474  0.25159677 -0.76275734\n",
      "  -0.63141754 -0.70734734  0.71475237 -0.55646476 -0.63241766  0.72079035\n",
      "   0.79759705  0.81548577 -0.34643041]\n",
      " [-0.50069902 -0.48143501 -0.5619583  -0.42703942 -0.40419564 -0.52438561\n",
      "   0.42297658  0.3630969   0.5436282   0.35623804  0.2638641   0.48838869\n",
      "  -0.42740111 -0.42746714 -0.54182291]\n",
      " [ 0.58180489  0.84618922  0.4200389   0.02869263  0.66707974  0.82300426\n",
      "   0.28898618  0.07130747  0.98899788  0.45010483  0.08135994  0.38561306\n",
      "   0.5434864   0.42807759  0.95023434]\n",
      " [ 0.95892626  0.81112604  0.13390337  0.97100763  0.91289394  0.47366403\n",
      "   0.21019334  0.20342618  0.25858249  0.71194082  0.59578107  0.34336725\n",
      "   0.29338023  0.03428569  0.83432994]\n",
      " [ 0.42236488  0.66456134  0.67887179  0.3473634   0.74998779  0.23704095\n",
      "   0.465146    0.29398222  0.68078304  0.7199019   0.58540767  0.3681172\n",
      "   0.69434285  0.6482679   0.41085748]\n",
      " [ 0.14601986  0.8400426   0.40123509  0.74680308  0.79923596  0.42046165\n",
      "   0.56830926  0.88620096  0.26116924  0.84492551  0.50193799  0.64022858\n",
      "   0.62202979  0.79884431  0.13811462]\n",
      " [ 0.95617028  0.84067517  0.62435909  0.69698142  0.57892078  0.88010694\n",
      "   0.2904322   0.4419826   0.58712182  0.39605187  0.76633947  0.19862697\n",
      "   0.85238057  0.78464114  0.76876662]]\n"
     ]
    }
   ],
   "source": [
    "X_train_np = X_train.values  # Ubah X_train dari DataFrame ke numpy array\n",
    "\n",
    "# Inisialisasi SOM tanpa PCA dan t-SNE\n",
    "m = 15\n",
    "fitur = X_train_np.shape[1]  # Sesuaikan fitur berdasarkan dimensi X_train_np\n",
    "R = 1\n",
    "alpha0 = 0.11571090995138311\n",
    "tau = 984\n",
    "\n",
    "som_normal = SOMlinier(m=m, fitur=fitur, R=R, alpha=alpha0, tau=tau)\n",
    "\n",
    "# Train SOM dengan data tanpa PCA dan t-SNE\n",
    "n_iterations = 982\n",
    "som_normal.train(X_train_np, n_iterations)\n",
    "\n",
    "# Akses bobot SOM yang telah dilatih\n",
    "weights_normal = som_normal.w\n",
    "print(\"Trained SOM weights:\", weights_normal)"
   ]
  },
  {
   "cell_type": "markdown",
   "metadata": {},
   "source": [
    "###Evaluasi"
   ]
  },
  {
   "cell_type": "code",
   "execution_count": 7,
   "metadata": {},
   "outputs": [
    {
     "name": "stdout",
     "output_type": "stream",
     "text": [
      "Quantization Error (QE): 1.878169586672665\n",
      "Topographic Error (TE): 0.6416887709991158\n"
     ]
    }
   ],
   "source": [
    "# Menghitung QE dan TE menggunakan numpy array (X_train_np)\n",
    "qe = som_normal.quantization_error(X_train_np)\n",
    "te = som_normal.topographic_error(X_train_np)\n",
    "\n",
    "print(\"Quantization Error (QE):\", qe)\n",
    "print(\"Topographic Error (TE):\", te)"
   ]
  },
  {
   "cell_type": "code",
   "execution_count": 8,
   "metadata": {},
   "outputs": [
    {
     "name": "stdout",
     "output_type": "stream",
     "text": [
      "Silhouette Score: -0.06274745154438173\n"
     ]
    }
   ],
   "source": [
    "\n",
    "silhouette_avg = silhouette_score(X_train, y_train.values)  # Gunakan y_train untuk mencocokkan data pada X_pca\n",
    "print(\"Silhouette Score:\", silhouette_avg)"
   ]
  },
  {
   "cell_type": "code",
   "execution_count": 9,
   "metadata": {},
   "outputs": [
    {
     "name": "stderr",
     "output_type": "stream",
     "text": [
      "[I 2024-11-16 23:49:49,884] A new study created in memory with name: no-name-3a528e17-b4b8-4109-b17f-0eb905e62b3f\n"
     ]
    },
    {
     "name": "stderr",
     "output_type": "stream",
     "text": [
      "[I 2024-11-16 23:49:50,247] Trial 0 finished with value: 0.5858940287066234 and parameters: {'m': 20, 'R': 5, 'alpha0': 0.2288584189006165, 'tau': 246, 'n_iterations': 930}. Best is trial 0 with value: 0.5858940287066234.\n",
      "[I 2024-11-16 23:49:50,591] Trial 1 finished with value: 0.7214404509163707 and parameters: {'m': 10, 'R': 2, 'alpha0': 0.3298367356173652, 'tau': 887, 'n_iterations': 1913}. Best is trial 0 with value: 0.5858940287066234.\n",
      "[I 2024-11-16 23:49:50,941] Trial 2 finished with value: 0.7376867367327156 and parameters: {'m': 7, 'R': 3, 'alpha0': 0.31511240619939535, 'tau': 478, 'n_iterations': 1498}. Best is trial 0 with value: 0.5858940287066234.\n",
      "[I 2024-11-16 23:49:51,274] Trial 3 finished with value: 0.7144623412996193 and parameters: {'m': 6, 'R': 4, 'alpha0': 0.1409970474288818, 'tau': 449, 'n_iterations': 1557}. Best is trial 0 with value: 0.5858940287066234.\n",
      "[I 2024-11-16 23:49:51,621] Trial 4 finished with value: 0.5983258692423525 and parameters: {'m': 20, 'R': 4, 'alpha0': 0.22494523188269094, 'tau': 750, 'n_iterations': 837}. Best is trial 0 with value: 0.5858940287066234.\n",
      "[I 2024-11-16 23:49:51,957] Trial 5 finished with value: 0.6704342917700213 and parameters: {'m': 19, 'R': 3, 'alpha0': 0.05670327896671875, 'tau': 458, 'n_iterations': 641}. Best is trial 0 with value: 0.5858940287066234.\n",
      "[I 2024-11-16 23:49:52,337] Trial 6 finished with value: 0.6396516819967802 and parameters: {'m': 17, 'R': 5, 'alpha0': 0.3076052997904036, 'tau': 739, 'n_iterations': 1725}. Best is trial 0 with value: 0.5858940287066234.\n",
      "[I 2024-11-16 23:49:52,651] Trial 7 finished with value: 0.7866224771825783 and parameters: {'m': 7, 'R': 2, 'alpha0': 0.32536802315924696, 'tau': 247, 'n_iterations': 1396}. Best is trial 0 with value: 0.5858940287066234.\n",
      "[I 2024-11-16 23:49:52,967] Trial 8 finished with value: 0.694531432802962 and parameters: {'m': 8, 'R': 4, 'alpha0': 0.05916686692697372, 'tau': 301, 'n_iterations': 1051}. Best is trial 0 with value: 0.5858940287066234.\n",
      "[I 2024-11-16 23:49:53,296] Trial 9 finished with value: 0.9925216023718119 and parameters: {'m': 15, 'R': 2, 'alpha0': 0.01591227814244032, 'tau': 292, 'n_iterations': 812}. Best is trial 0 with value: 0.5858940287066234.\n",
      "[I 2024-11-16 23:49:53,642] Trial 10 finished with value: 0.6521355058980078 and parameters: {'m': 13, 'R': 5, 'alpha0': 0.4921603478134259, 'tau': 124, 'n_iterations': 1144}. Best is trial 0 with value: 0.5858940287066234.\n",
      "[I 2024-11-16 23:49:53,987] Trial 11 finished with value: 0.5984873329399397 and parameters: {'m': 20, 'R': 4, 'alpha0': 0.19227424434153875, 'tau': 693, 'n_iterations': 886}. Best is trial 0 with value: 0.5858940287066234.\n",
      "[I 2024-11-16 23:49:54,357] Trial 12 finished with value: 0.6700856262806829 and parameters: {'m': 17, 'R': 5, 'alpha0': 0.21135554125338155, 'tau': 973, 'n_iterations': 586}. Best is trial 0 with value: 0.5858940287066234.\n",
      "[I 2024-11-16 23:49:54,701] Trial 13 finished with value: 0.6112802041705558 and parameters: {'m': 20, 'R': 4, 'alpha0': 0.42565390370790945, 'tau': 640, 'n_iterations': 903}. Best is trial 0 with value: 0.5858940287066234.\n",
      "[I 2024-11-16 23:49:55,081] Trial 14 finished with value: 1.0445429612762098 and parameters: {'m': 17, 'R': 1, 'alpha0': 0.1476985468944489, 'tau': 828, 'n_iterations': 1249}. Best is trial 0 with value: 0.5858940287066234.\n",
      "[I 2024-11-16 23:49:55,414] Trial 15 finished with value: 0.6464805118262451 and parameters: {'m': 13, 'R': 5, 'alpha0': 0.26072972683065365, 'tau': 570, 'n_iterations': 703}. Best is trial 0 with value: 0.5858940287066234.\n",
      "[I 2024-11-16 23:49:55,755] Trial 16 finished with value: 0.6435403237415372 and parameters: {'m': 15, 'R': 4, 'alpha0': 0.4034454112699166, 'tau': 116, 'n_iterations': 985}. Best is trial 0 with value: 0.5858940287066234.\n",
      "[I 2024-11-16 23:49:56,085] Trial 17 finished with value: 0.6238261189299226 and parameters: {'m': 18, 'R': 5, 'alpha0': 0.2460918439408723, 'tau': 365, 'n_iterations': 502}. Best is trial 0 with value: 0.5858940287066234.\n",
      "[I 2024-11-16 23:49:56,417] Trial 18 finished with value: 0.6296194034256305 and parameters: {'m': 15, 'R': 3, 'alpha0': 0.13653567246015486, 'tau': 765, 'n_iterations': 773}. Best is trial 0 with value: 0.5858940287066234.\n",
      "[I 2024-11-16 23:49:56,764] Trial 19 finished with value: 0.6170940421611525 and parameters: {'m': 20, 'R': 3, 'alpha0': 0.19686722763359582, 'tau': 571, 'n_iterations': 1192}. Best is trial 0 with value: 0.5858940287066234.\n",
      "[I 2024-11-16 23:49:57,107] Trial 20 finished with value: 0.6468835924592367 and parameters: {'m': 11, 'R': 4, 'alpha0': 0.2663800044575628, 'tau': 996, 'n_iterations': 1033}. Best is trial 0 with value: 0.5858940287066234.\n",
      "[I 2024-11-16 23:49:57,454] Trial 21 finished with value: 0.5899680271082686 and parameters: {'m': 20, 'R': 4, 'alpha0': 0.17620470666185065, 'tau': 683, 'n_iterations': 851}. Best is trial 0 with value: 0.5858940287066234.\n",
      "[I 2024-11-16 23:49:57,791] Trial 22 finished with value: 0.5941310209423148 and parameters: {'m': 18, 'R': 4, 'alpha0': 0.11771268082154701, 'tau': 647, 'n_iterations': 892}. Best is trial 0 with value: 0.5858940287066234.\n",
      "[I 2024-11-16 23:49:58,141] Trial 23 finished with value: 0.6012635897652807 and parameters: {'m': 18, 'R': 5, 'alpha0': 0.10673543408364808, 'tau': 602, 'n_iterations': 1069}. Best is trial 0 with value: 0.5858940287066234.\n",
      "[I 2024-11-16 23:49:58,480] Trial 24 finished with value: 0.5929695358457303 and parameters: {'m': 18, 'R': 4, 'alpha0': 0.0939224787073111, 'tau': 665, 'n_iterations': 955}. Best is trial 0 with value: 0.5858940287066234.\n",
      "[I 2024-11-16 23:49:58,813] Trial 25 finished with value: 0.6263144252811439 and parameters: {'m': 16, 'R': 5, 'alpha0': 0.17288433880436688, 'tau': 516, 'n_iterations': 712}. Best is trial 0 with value: 0.5858940287066234.\n",
      "[I 2024-11-16 23:49:59,169] Trial 26 finished with value: 0.5921538148230288 and parameters: {'m': 19, 'R': 4, 'alpha0': 0.08358311655328973, 'tau': 847, 'n_iterations': 955}. Best is trial 0 with value: 0.5858940287066234.\n",
      "[I 2024-11-16 23:49:59,521] Trial 27 finished with value: 0.6059661806542039 and parameters: {'m': 19, 'R': 5, 'alpha0': 0.06763292401098916, 'tau': 880, 'n_iterations': 1316}. Best is trial 0 with value: 0.5858940287066234.\n",
      "[I 2024-11-16 23:49:59,871] Trial 28 finished with value: 0.7463507704298209 and parameters: {'m': 19, 'R': 3, 'alpha0': 0.018696149111054355, 'tau': 826, 'n_iterations': 1129}. Best is trial 0 with value: 0.5858940287066234.\n",
      "[I 2024-11-16 23:50:00,205] Trial 29 finished with value: 1.0475904461183034 and parameters: {'m': 11, 'R': 1, 'alpha0': 0.1756455301043428, 'tau': 892, 'n_iterations': 761}. Best is trial 0 with value: 0.5858940287066234.\n"
     ]
    },
    {
     "name": "stdout",
     "output_type": "stream",
     "text": [
      "Best parameters for SOM: {'m': 20, 'R': 5, 'alpha0': 0.2288584189006165, 'tau': 246, 'n_iterations': 930}\n",
      "Best combined score: 0.5858940287066234\n"
     ]
    }
   ],
   "source": [
    "# Fungsi objektif untuk optimasi Optuna\n",
    "def objective(trial):\n",
    "    # Tuning parameter\n",
    "    m = trial.suggest_int('m', 5, 20)           # Jumlah neuron\n",
    "    R = trial.suggest_int('R', 1, 5)            # Radius\n",
    "    alpha0 = trial.suggest_float('alpha0', 0.01, 0.5)  # Learning rate\n",
    "    tau = trial.suggest_int('tau', 100, 1000)   # Konstanta peluruhan\n",
    "    n_iterations = trial.suggest_int('n_iterations', 500, 2000)  # Iterasi pelatihan\n",
    "    \n",
    "    # Inisialisasi dan latih SOM dengan parameter yang dipilih\n",
    "    som = SOMlinier(m=m, fitur=X_train_np.shape[1], R=R, alpha=alpha0, tau=tau)\n",
    "    som.train(X_train_np, n_iterations)\n",
    "\n",
    "    # Hitung QE, TE, dan Silhouette Score\n",
    "    qe = som.quantization_error(X_train_np)\n",
    "    te = som.topographic_error(X_train_np)\n",
    "\n",
    "    # Hitung BMU untuk setiap data dan hitung Silhouette Score\n",
    "    bmu_indices = np.array([som.hitung_bmu(x) for x in X_train_np])\n",
    "    silhouette = silhouette_score(X_train_np, bmu_indices)\n",
    "    \n",
    "    # Kombinasikan ketiga metrik dengan bobot tertentu\n",
    "    # Di sini, kita meminimalkan QE dan TE, tetapi memaksimalkan Silhouette Score\n",
    "    # Jadi kita gunakan negatif Silhouette Score (karena Optuna meminimalkan nilai)\n",
    "    combined_score = (0.4 * qe) + (0.4 * te) - (0.2 * silhouette)\n",
    "\n",
    "    return combined_score\n",
    "\n",
    "# Buat study untuk optimasi\n",
    "study = optuna.create_study(direction='minimize')\n",
    "study.optimize(objective, n_trials=30)\n",
    "\n",
    "# Cetak hasil terbaik\n",
    "print(\"Best parameters for SOM:\", study.best_params)\n",
    "print(\"Best combined score:\", study.best_value)\n"
   ]
  },
  {
   "cell_type": "code",
   "execution_count": null,
   "metadata": {},
   "outputs": [
    {
     "name": "stdout",
     "output_type": "stream",
     "text": [
      "Topographic Product = -0.03841065105903301\n",
      "Neighborhood Preservation = -7.894317192184706\n",
      "Trustworthiness = 0.894162591318731\n"
     ]
    }
   ],
   "source": [
    "map_size = (6, 1)  # 6 neurons in 1 row (linear SOM)\n",
    "\n",
    "# Ambil bobot dari SOM hasil PCA yang sudah dilatih\n",
    "weights_normal = som_normal.w  # weights_normal seharusnya berbentuk (6, 1)\n",
    "\n",
    "# Hitung beberapa metrik menggunakan somperf\n",
    "print('Topographic Product =', topographic_product(rectangular_topology_dist(map_size), weights_normal))\n",
    "print('Neighborhood Preservation =', neighborhood_preservation(1, weights_normal, X_train))\n",
    "print('Trustworthiness =', trustworthiness(1, weights_normal, X_train))"
   ]
  },
  {
   "cell_type": "markdown",
   "metadata": {},
   "source": [
    "###Tuning"
   ]
  }
 ],
 "metadata": {
  "kernelspec": {
   "display_name": ".venv",
   "language": "python",
   "name": "python3"
  },
  "language_info": {
   "codemirror_mode": {
    "name": "ipython",
    "version": 3
   },
   "file_extension": ".py",
   "mimetype": "text/x-python",
   "name": "python",
   "nbconvert_exporter": "python",
   "pygments_lexer": "ipython3",
   "version": "3.11.8"
  }
 },
 "nbformat": 4,
 "nbformat_minor": 2
}
